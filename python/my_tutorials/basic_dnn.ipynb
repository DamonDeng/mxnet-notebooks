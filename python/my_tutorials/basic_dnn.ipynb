{
 "cells": [
  {
   "cell_type": "markdown",
   "metadata": {},
   "source": [
    "# My sample to build a simple Neural Network with MXNet"
   ]
  },
  {
   "cell_type": "code",
   "execution_count": 3,
   "metadata": {
    "collapsed": true
   },
   "outputs": [],
   "source": [
    "import mxnet as mx\n",
    "import numpy as np"
   ]
  },
  {
   "cell_type": "markdown",
   "metadata": {},
   "source": [
    "### To build the sample input data of x"
   ]
  },
  {
   "cell_type": "code",
   "execution_count": 15,
   "metadata": {
    "collapsed": true
   },
   "outputs": [],
   "source": [
    "data_size = 50000\n",
    "eval_ratio = 0.3"
   ]
  },
  {
   "cell_type": "code",
   "execution_count": 5,
   "metadata": {
    "collapsed": false
   },
   "outputs": [],
   "source": [
    "random_x = np.random.rand(data_size,10)\n",
    "random_noise = np.random.rand(data_size)"
   ]
  },
  {
   "cell_type": "code",
   "execution_count": 6,
   "metadata": {
    "collapsed": false
   },
   "outputs": [],
   "source": [
    "input_x = mx.nd.array(random_x)\n",
    "input_noise = mx.nd.array(random_noise)"
   ]
  },
  {
   "cell_type": "code",
   "execution_count": 7,
   "metadata": {
    "collapsed": false
   },
   "outputs": [
    {
     "data": {
      "text/plain": [
       "array([[ 0.06848829,  0.20841959,  0.16000363, ...,  0.79086703,\n",
       "         0.71904951,  0.71404123],\n",
       "       [ 0.3829312 ,  0.48995924,  0.91594332, ...,  0.43930629,\n",
       "         0.46538848,  0.70355225],\n",
       "       [ 0.75994623,  0.9433865 ,  0.19572863, ...,  0.84880257,\n",
       "         0.58160371,  0.05498484],\n",
       "       ..., \n",
       "       [ 0.00435172,  0.60273767,  0.89202261, ...,  0.20415887,\n",
       "         0.75057477,  0.28521517],\n",
       "       [ 0.3333993 ,  0.2978749 ,  0.16671009, ...,  0.94835883,\n",
       "         0.81689972,  0.50940692],\n",
       "       [ 0.05279968,  0.24327086,  0.17855528, ...,  0.36282653,\n",
       "         0.35874125,  0.89399582]], dtype=float32)"
      ]
     },
     "execution_count": 7,
     "metadata": {},
     "output_type": "execute_result"
    }
   ],
   "source": [
    "input_x.asnumpy()"
   ]
  },
  {
   "cell_type": "code",
   "execution_count": 8,
   "metadata": {
    "collapsed": true
   },
   "outputs": [],
   "source": [
    "input_x_t = input_x.T"
   ]
  },
  {
   "cell_type": "code",
   "execution_count": 9,
   "metadata": {
    "collapsed": false
   },
   "outputs": [
    {
     "data": {
      "text/plain": [
       "array([[ 0.06848829,  0.3829312 ,  0.75994623, ...,  0.00435172,\n",
       "         0.3333993 ,  0.05279968],\n",
       "       [ 0.20841959,  0.48995924,  0.9433865 , ...,  0.60273767,\n",
       "         0.2978749 ,  0.24327086],\n",
       "       [ 0.16000363,  0.91594332,  0.19572863, ...,  0.89202261,\n",
       "         0.16671009,  0.17855528],\n",
       "       ..., \n",
       "       [ 0.79086703,  0.43930629,  0.84880257, ...,  0.20415887,\n",
       "         0.94835883,  0.36282653],\n",
       "       [ 0.71904951,  0.46538848,  0.58160371, ...,  0.75057477,\n",
       "         0.81689972,  0.35874125],\n",
       "       [ 0.71404123,  0.70355225,  0.05498484, ...,  0.28521517,\n",
       "         0.50940692,  0.89399582]], dtype=float32)"
      ]
     },
     "execution_count": 9,
     "metadata": {},
     "output_type": "execute_result"
    }
   ],
   "source": [
    "input_x_t.asnumpy()"
   ]
  },
  {
   "cell_type": "code",
   "execution_count": 11,
   "metadata": {
    "collapsed": true
   },
   "outputs": [],
   "source": [
    "target_p = mx.nd.array([4, 6.5, 100, 2, -40, -80, 2.46, 1000.34, 0, -8.99])"
   ]
  },
  {
   "cell_type": "markdown",
   "metadata": {},
   "source": [
    "### Generate target label target_y with input_x_t * target_p + input_noise"
   ]
  },
  {
   "cell_type": "code",
   "execution_count": 12,
   "metadata": {
    "collapsed": false
   },
   "outputs": [],
   "source": [
    "target_y = mx.nd.zeros(50000)\n",
    "\n",
    "for i in range(0,9):\n",
    "    target_y = target_y + input_x_t[i] * target_p[i]\n",
    "    \n",
    "target_y = target_y + input_noise"
   ]
  },
  {
   "cell_type": "markdown",
   "metadata": {},
   "source": [
    "### Caculate the label of target_y with comparing value of target_y element and mean of target_y"
   ]
  },
  {
   "cell_type": "code",
   "execution_count": 13,
   "metadata": {
    "collapsed": false
   },
   "outputs": [],
   "source": [
    "label_y = mx.nd.lesser(target_y,mx.nd.mean(target_y).asscalar())"
   ]
  },
  {
   "cell_type": "code",
   "execution_count": 14,
   "metadata": {
    "collapsed": false
   },
   "outputs": [
    {
     "data": {
      "text/plain": [
       "array([ 0.,  1.,  0., ...,  1.,  0.,  1.], dtype=float32)"
      ]
     },
     "execution_count": 14,
     "metadata": {},
     "output_type": "execute_result"
    }
   ],
   "source": [
    "label_y.asnumpy()"
   ]
  },
  {
   "cell_type": "markdown",
   "metadata": {},
   "source": [
    "### seperate the trainning set and evaluating set"
   ]
  },
  {
   "cell_type": "code",
   "execution_count": 31,
   "metadata": {
    "collapsed": false
   },
   "outputs": [],
   "source": [
    "train_size = (int)(data_size * (1 - eval_ratio))\n",
    "\n",
    "train_set_x = input_x[0:train_size] \n",
    "eval_set_x = input_x[train_size:data_size]\n",
    "\n",
    "train_set_y = label_y[0:train_size]\n",
    "eval_set_y = label_y[train_size:data_size]"
   ]
  },
  {
   "cell_type": "markdown",
   "metadata": {},
   "source": [
    "### defining the network"
   ]
  },
  {
   "cell_type": "code",
   "execution_count": 32,
   "metadata": {
    "collapsed": true
   },
   "outputs": [],
   "source": [
    "data = mx.sym.Variable('data')\n",
    "\n",
    "fc1 = mx.sym.FullyConnected(data=data, name='fc1',num_hidden=100)\n",
    "\n",
    "mlp = mx.sym.SoftmaxOutput(data=fc1, name='softmax')\n"
   ]
  },
  {
   "cell_type": "code",
   "execution_count": 33,
   "metadata": {
    "collapsed": false
   },
   "outputs": [
    {
     "data": {
      "image/svg+xml": [
       "<?xml version=\"1.0\" encoding=\"UTF-8\" standalone=\"no\"?>\n",
       "<!DOCTYPE svg PUBLIC \"-//W3C//DTD SVG 1.1//EN\"\n",
       " \"http://www.w3.org/Graphics/SVG/1.1/DTD/svg11.dtd\">\n",
       "<!-- Generated by graphviz version 2.38.0 (20140413.2041)\n",
       " -->\n",
       "<!-- Title: plot Pages: 1 -->\n",
       "<svg width=\"214pt\" height=\"254pt\"\n",
       " viewBox=\"0.00 0.00 214.00 254.00\" xmlns=\"http://www.w3.org/2000/svg\" xmlns:xlink=\"http://www.w3.org/1999/xlink\">\n",
       "<g id=\"graph0\" class=\"graph\" transform=\"scale(1 1) rotate(0) translate(4 250)\">\n",
       "<title>plot</title>\n",
       "<polygon fill=\"white\" stroke=\"none\" points=\"-4,4 -4,-250 210,-250 210,4 -4,4\"/>\n",
       "<!-- data -->\n",
       "<g id=\"node1\" class=\"node\"><title>data</title>\n",
       "<ellipse fill=\"#8dd3c7\" stroke=\"black\" cx=\"47\" cy=\"-29\" rx=\"47\" ry=\"29\"/>\n",
       "<text text-anchor=\"middle\" x=\"47\" y=\"-25.3\" font-family=\"Times,serif\" font-size=\"14.00\">data</text>\n",
       "</g>\n",
       "<!-- fc1 -->\n",
       "<g id=\"node2\" class=\"node\"><title>fc1</title>\n",
       "<polygon fill=\"#fb8072\" stroke=\"black\" points=\"94,-152 -7.10543e-15,-152 -7.10543e-15,-94 94,-94 94,-152\"/>\n",
       "<text text-anchor=\"middle\" x=\"47\" y=\"-126.8\" font-family=\"Times,serif\" font-size=\"14.00\">FullyConnected</text>\n",
       "<text text-anchor=\"middle\" x=\"47\" y=\"-111.8\" font-family=\"Times,serif\" font-size=\"14.00\">100</text>\n",
       "</g>\n",
       "<!-- fc1&#45;&gt;data -->\n",
       "<g id=\"edge1\" class=\"edge\"><title>fc1&#45;&gt;data</title>\n",
       "<path fill=\"none\" stroke=\"black\" d=\"M47,-83.7443C47,-75.2043 47,-66.2977 47,-58.2479\"/>\n",
       "<polygon fill=\"black\" stroke=\"black\" points=\"47,-93.8971 42.5001,-83.897 47,-88.8971 47.0001,-83.8971 47.0001,-83.8971 47.0001,-83.8971 47,-88.8971 51.5001,-83.8971 47,-93.8971 47,-93.8971\"/>\n",
       "</g>\n",
       "<!-- softmax_label -->\n",
       "<g id=\"node3\" class=\"node\"><title>softmax_label</title>\n",
       "<ellipse fill=\"#8dd3c7\" stroke=\"black\" cx=\"159\" cy=\"-123\" rx=\"47\" ry=\"29\"/>\n",
       "<text text-anchor=\"middle\" x=\"159\" y=\"-119.3\" font-family=\"Times,serif\" font-size=\"14.00\">softmax_label</text>\n",
       "</g>\n",
       "<!-- softmax -->\n",
       "<g id=\"node4\" class=\"node\"><title>softmax</title>\n",
       "<polygon fill=\"#fccde5\" stroke=\"black\" points=\"150,-246 56,-246 56,-188 150,-188 150,-246\"/>\n",
       "<text text-anchor=\"middle\" x=\"103\" y=\"-213.3\" font-family=\"Times,serif\" font-size=\"14.00\">softmax</text>\n",
       "</g>\n",
       "<!-- softmax&#45;&gt;fc1 -->\n",
       "<g id=\"edge2\" class=\"edge\"><title>softmax&#45;&gt;fc1</title>\n",
       "<path fill=\"none\" stroke=\"black\" d=\"M80.5686,-179.148C75.113,-170.186 69.3635,-160.74 64.1943,-152.248\"/>\n",
       "<polygon fill=\"black\" stroke=\"black\" points=\"85.8939,-187.897 76.8505,-181.695 83.2941,-183.626 80.6944,-179.355 80.6944,-179.355 80.6944,-179.355 83.2941,-183.626 84.5383,-177.015 85.8939,-187.897 85.8939,-187.897\"/>\n",
       "</g>\n",
       "<!-- softmax&#45;&gt;softmax_label -->\n",
       "<g id=\"edge3\" class=\"edge\"><title>softmax&#45;&gt;softmax_label</title>\n",
       "<path fill=\"none\" stroke=\"black\" d=\"M125.377,-179.237C131.257,-169.578 137.481,-159.353 142.955,-150.36\"/>\n",
       "<polygon fill=\"black\" stroke=\"black\" points=\"120.106,-187.897 121.462,-177.015 122.706,-183.626 125.306,-179.355 125.306,-179.355 125.306,-179.355 122.706,-183.626 129.15,-181.695 120.106,-187.897 120.106,-187.897\"/>\n",
       "</g>\n",
       "</g>\n",
       "</svg>\n"
      ],
      "text/plain": [
       "<graphviz.dot.Digraph at 0x7f5b409ecf50>"
      ]
     },
     "execution_count": 33,
     "metadata": {},
     "output_type": "execute_result"
    }
   ],
   "source": [
    "mx.viz.plot_network(symbol=mlp)"
   ]
  },
  {
   "cell_type": "code",
   "execution_count": 34,
   "metadata": {
    "collapsed": false
   },
   "outputs": [
    {
     "name": "stderr",
     "output_type": "stream",
     "text": [
      "/usr/local/lib/python2.7/dist-packages/ipykernel/__main__.py:7: DeprecationWarning: \u001b[91mmxnet.model.FeedForward has been deprecated. Please use mxnet.mod.Module instead.\u001b[0m\n"
     ]
    }
   ],
   "source": [
    "import logging\n",
    "logging.getLogger().setLevel(logging.DEBUG)\n",
    "\n",
    "model = mx.model.FeedForward(\n",
    "    symbol = mlp,       # network structure\n",
    "    num_epoch = 1,     # number of data passes for training \n",
    "    learning_rate = 0.1 # learning rate of SGD \n",
    ")"
   ]
  },
  {
   "cell_type": "code",
   "execution_count": 35,
   "metadata": {
    "collapsed": true
   },
   "outputs": [],
   "source": [
    "train_iter = mx.io.NDArrayIter(train_set_x, train_set_y)\n",
    "eval_iter = mx.io.NDArrayIter(eval_set_x, eval_set_y)"
   ]
  },
  {
   "cell_type": "code",
   "execution_count": 36,
   "metadata": {
    "collapsed": false
   },
   "outputs": [
    {
     "name": "stderr",
     "output_type": "stream",
     "text": [
      "/home/ubuntu/.local/lib/python2.7/site-packages/mxnet-0.9.4-py2.7.egg/mxnet/model.py:516: DeprecationWarning: \u001b[91mCalling initializer with init(str, NDArray) has been deprecated.please use init(mx.init.InitDesc(...), NDArray) instead.\u001b[0m\n",
      "  self.initializer(k, v)\n",
      "INFO:root:Start training with [cpu(0)]\n",
      "INFO:root:Epoch[0] Batch [200]\tSpeed: 12169.51 samples/sec\tTrain-accuracy=0.775000\n",
      "INFO:root:Epoch[0] Batch [400]\tSpeed: 12156.48 samples/sec\tTrain-accuracy=0.880000\n",
      "INFO:root:Epoch[0] Batch [600]\tSpeed: 12123.29 samples/sec\tTrain-accuracy=0.930000\n",
      "INFO:root:Epoch[0] Batch [800]\tSpeed: 12082.40 samples/sec\tTrain-accuracy=0.950000\n",
      "INFO:root:Epoch[0] Batch [1000]\tSpeed: 12127.71 samples/sec\tTrain-accuracy=0.960000\n",
      "INFO:root:Epoch[0] Batch [1200]\tSpeed: 12144.95 samples/sec\tTrain-accuracy=0.945000\n",
      "INFO:root:Epoch[0] Batch [1400]\tSpeed: 12145.86 samples/sec\tTrain-accuracy=0.945000\n",
      "INFO:root:Epoch[0] Batch [1600]\tSpeed: 12159.61 samples/sec\tTrain-accuracy=0.955000\n",
      "INFO:root:Epoch[0] Batch [1800]\tSpeed: 12124.53 samples/sec\tTrain-accuracy=0.965000\n",
      "INFO:root:Epoch[0] Batch [2000]\tSpeed: 12132.06 samples/sec\tTrain-accuracy=0.955000\n",
      "INFO:root:Epoch[0] Batch [2200]\tSpeed: 12089.47 samples/sec\tTrain-accuracy=0.945000\n",
      "INFO:root:Epoch[0] Batch [2400]\tSpeed: 12120.96 samples/sec\tTrain-accuracy=0.965000\n",
      "INFO:root:Epoch[0] Batch [2600]\tSpeed: 12067.05 samples/sec\tTrain-accuracy=0.950000\n",
      "INFO:root:Epoch[0] Batch [2800]\tSpeed: 12082.54 samples/sec\tTrain-accuracy=0.950000\n",
      "INFO:root:Epoch[0] Batch [3000]\tSpeed: 12131.17 samples/sec\tTrain-accuracy=0.970000\n",
      "INFO:root:Epoch[0] Batch [3200]\tSpeed: 12120.21 samples/sec\tTrain-accuracy=0.970000\n",
      "INFO:root:Epoch[0] Batch [3400]\tSpeed: 12101.50 samples/sec\tTrain-accuracy=0.975000\n",
      "INFO:root:Epoch[0] Batch [3600]\tSpeed: 13271.36 samples/sec\tTrain-accuracy=0.975000\n",
      "INFO:root:Epoch[0] Batch [3800]\tSpeed: 12414.91 samples/sec\tTrain-accuracy=0.970000\n",
      "INFO:root:Epoch[0] Batch [4000]\tSpeed: 12183.93 samples/sec\tTrain-accuracy=0.990000\n",
      "INFO:root:Epoch[0] Batch [4200]\tSpeed: 12146.80 samples/sec\tTrain-accuracy=0.990000\n",
      "INFO:root:Epoch[0] Batch [4400]\tSpeed: 12145.03 samples/sec\tTrain-accuracy=0.980000\n",
      "INFO:root:Epoch[0] Batch [4600]\tSpeed: 12139.16 samples/sec\tTrain-accuracy=0.980000\n",
      "INFO:root:Epoch[0] Batch [4800]\tSpeed: 12139.30 samples/sec\tTrain-accuracy=0.985000\n",
      "INFO:root:Epoch[0] Batch [5000]\tSpeed: 12118.66 samples/sec\tTrain-accuracy=0.945000\n",
      "INFO:root:Epoch[0] Batch [5200]\tSpeed: 13392.13 samples/sec\tTrain-accuracy=0.985000\n",
      "INFO:root:Epoch[0] Batch [5400]\tSpeed: 12130.46 samples/sec\tTrain-accuracy=0.990000\n",
      "INFO:root:Epoch[0] Batch [5600]\tSpeed: 12117.48 samples/sec\tTrain-accuracy=0.960000\n",
      "INFO:root:Epoch[0] Batch [5800]\tSpeed: 12143.52 samples/sec\tTrain-accuracy=0.955000\n",
      "INFO:root:Epoch[0] Batch [6000]\tSpeed: 13904.67 samples/sec\tTrain-accuracy=0.990000\n",
      "INFO:root:Epoch[0] Batch [6200]\tSpeed: 12174.74 samples/sec\tTrain-accuracy=0.965000\n",
      "INFO:root:Epoch[0] Batch [6400]\tSpeed: 12155.45 samples/sec\tTrain-accuracy=0.985000\n",
      "INFO:root:Epoch[0] Batch [6600]\tSpeed: 12173.22 samples/sec\tTrain-accuracy=0.985000\n",
      "INFO:root:Epoch[0] Batch [6800]\tSpeed: 12155.30 samples/sec\tTrain-accuracy=0.990000\n",
      "INFO:root:Epoch[0] Batch [7000]\tSpeed: 12151.35 samples/sec\tTrain-accuracy=0.975000\n",
      "INFO:root:Epoch[0] Batch [7200]\tSpeed: 12121.05 samples/sec\tTrain-accuracy=0.970000\n",
      "INFO:root:Epoch[0] Batch [7400]\tSpeed: 12155.36 samples/sec\tTrain-accuracy=0.980000\n",
      "INFO:root:Epoch[0] Batch [7600]\tSpeed: 12164.68 samples/sec\tTrain-accuracy=0.970000\n",
      "INFO:root:Epoch[0] Batch [7800]\tSpeed: 12169.72 samples/sec\tTrain-accuracy=0.985000\n",
      "INFO:root:Epoch[0] Batch [8000]\tSpeed: 12024.92 samples/sec\tTrain-accuracy=0.975000\n",
      "INFO:root:Epoch[0] Batch [8200]\tSpeed: 12141.99 samples/sec\tTrain-accuracy=0.980000\n",
      "INFO:root:Epoch[0] Batch [8400]\tSpeed: 12099.51 samples/sec\tTrain-accuracy=0.975000\n",
      "INFO:root:Epoch[0] Batch [8600]\tSpeed: 13662.11 samples/sec\tTrain-accuracy=0.985000\n",
      "INFO:root:Epoch[0] Batch [8800]\tSpeed: 12156.74 samples/sec\tTrain-accuracy=0.975000\n",
      "INFO:root:Epoch[0] Batch [9000]\tSpeed: 12121.99 samples/sec\tTrain-accuracy=0.990000\n",
      "INFO:root:Epoch[0] Batch [9200]\tSpeed: 12196.38 samples/sec\tTrain-accuracy=0.995000\n",
      "INFO:root:Epoch[0] Batch [9400]\tSpeed: 12157.95 samples/sec\tTrain-accuracy=0.970000\n",
      "INFO:root:Epoch[0] Batch [9600]\tSpeed: 12110.15 samples/sec\tTrain-accuracy=0.985000\n",
      "INFO:root:Epoch[0] Batch [9800]\tSpeed: 12079.55 samples/sec\tTrain-accuracy=0.985000\n",
      "INFO:root:Epoch[0] Batch [10000]\tSpeed: 12108.58 samples/sec\tTrain-accuracy=0.985000\n",
      "INFO:root:Epoch[0] Batch [10200]\tSpeed: 12143.11 samples/sec\tTrain-accuracy=1.000000\n",
      "INFO:root:Epoch[0] Batch [10400]\tSpeed: 12093.25 samples/sec\tTrain-accuracy=0.980000\n",
      "INFO:root:Epoch[0] Batch [10600]\tSpeed: 13645.80 samples/sec\tTrain-accuracy=0.985000\n",
      "INFO:root:Epoch[0] Batch [10800]\tSpeed: 12134.04 samples/sec\tTrain-accuracy=0.955000\n",
      "INFO:root:Epoch[0] Batch [11000]\tSpeed: 12118.47 samples/sec\tTrain-accuracy=0.980000\n",
      "INFO:root:Epoch[0] Batch [11200]\tSpeed: 12168.60 samples/sec\tTrain-accuracy=0.985000\n",
      "INFO:root:Epoch[0] Batch [11400]\tSpeed: 12317.91 samples/sec\tTrain-accuracy=0.970000\n",
      "INFO:root:Epoch[0] Batch [11600]\tSpeed: 12173.64 samples/sec\tTrain-accuracy=0.980000\n",
      "INFO:root:Epoch[0] Batch [11800]\tSpeed: 12120.59 samples/sec\tTrain-accuracy=0.985000\n",
      "INFO:root:Epoch[0] Batch [12000]\tSpeed: 12114.09 samples/sec\tTrain-accuracy=0.975000\n",
      "INFO:root:Epoch[0] Batch [12200]\tSpeed: 13392.47 samples/sec\tTrain-accuracy=0.965000\n",
      "INFO:root:Epoch[0] Batch [12400]\tSpeed: 12164.87 samples/sec\tTrain-accuracy=0.990000\n",
      "INFO:root:Epoch[0] Batch [12600]\tSpeed: 12155.19 samples/sec\tTrain-accuracy=0.960000\n",
      "INFO:root:Epoch[0] Batch [12800]\tSpeed: 12135.25 samples/sec\tTrain-accuracy=1.000000\n",
      "INFO:root:Epoch[0] Batch [13000]\tSpeed: 12120.51 samples/sec\tTrain-accuracy=0.970000\n",
      "INFO:root:Epoch[0] Batch [13200]\tSpeed: 12135.30 samples/sec\tTrain-accuracy=0.975000\n",
      "INFO:root:Epoch[0] Batch [13400]\tSpeed: 12118.80 samples/sec\tTrain-accuracy=0.985000\n",
      "INFO:root:Epoch[0] Batch [13600]\tSpeed: 13360.33 samples/sec\tTrain-accuracy=0.985000\n",
      "INFO:root:Epoch[0] Batch [13800]\tSpeed: 12121.11 samples/sec\tTrain-accuracy=0.985000\n",
      "INFO:root:Epoch[0] Batch [14000]\tSpeed: 12178.73 samples/sec\tTrain-accuracy=0.985000\n",
      "INFO:root:Epoch[0] Batch [14200]\tSpeed: 12089.14 samples/sec\tTrain-accuracy=0.985000\n",
      "INFO:root:Epoch[0] Batch [14400]\tSpeed: 12118.25 samples/sec\tTrain-accuracy=0.995000\n",
      "INFO:root:Epoch[0] Batch [14600]\tSpeed: 12145.11 samples/sec\tTrain-accuracy=0.990000\n",
      "INFO:root:Epoch[0] Batch [14800]\tSpeed: 12116.69 samples/sec\tTrain-accuracy=1.000000\n",
      "INFO:root:Epoch[0] Batch [15000]\tSpeed: 12109.41 samples/sec\tTrain-accuracy=0.975000\n",
      "INFO:root:Epoch[0] Batch [15200]\tSpeed: 13841.07 samples/sec\tTrain-accuracy=0.990000\n",
      "INFO:root:Epoch[0] Batch [15400]\tSpeed: 12165.23 samples/sec\tTrain-accuracy=0.995000\n",
      "INFO:root:Epoch[0] Batch [15600]\tSpeed: 12188.36 samples/sec\tTrain-accuracy=0.985000\n",
      "INFO:root:Epoch[0] Batch [15800]\tSpeed: 12123.50 samples/sec\tTrain-accuracy=0.970000\n",
      "INFO:root:Epoch[0] Batch [16000]\tSpeed: 12156.07 samples/sec\tTrain-accuracy=0.990000\n",
      "INFO:root:Epoch[0] Batch [16200]\tSpeed: 12122.27 samples/sec\tTrain-accuracy=0.995000\n",
      "INFO:root:Epoch[0] Batch [16400]\tSpeed: 12178.70 samples/sec\tTrain-accuracy=0.985000\n",
      "INFO:root:Epoch[0] Batch [16600]\tSpeed: 12105.62 samples/sec\tTrain-accuracy=0.980000\n",
      "INFO:root:Epoch[0] Batch [16800]\tSpeed: 12151.57 samples/sec\tTrain-accuracy=0.985000\n",
      "INFO:root:Epoch[0] Batch [17000]\tSpeed: 12146.20 samples/sec\tTrain-accuracy=0.985000\n",
      "INFO:root:Epoch[0] Batch [17200]\tSpeed: 12141.87 samples/sec\tTrain-accuracy=0.990000\n",
      "INFO:root:Epoch[0] Batch [17400]\tSpeed: 12099.06 samples/sec\tTrain-accuracy=0.985000\n",
      "INFO:root:Epoch[0] Batch [17600]\tSpeed: 12104.36 samples/sec\tTrain-accuracy=0.970000\n",
      "INFO:root:Epoch[0] Batch [17800]\tSpeed: 12104.38 samples/sec\tTrain-accuracy=0.995000\n",
      "INFO:root:Epoch[0] Batch [18000]\tSpeed: 12096.83 samples/sec\tTrain-accuracy=0.985000\n",
      "INFO:root:Epoch[0] Batch [18200]\tSpeed: 12172.66 samples/sec\tTrain-accuracy=0.985000\n",
      "INFO:root:Epoch[0] Batch [18400]\tSpeed: 12166.04 samples/sec\tTrain-accuracy=0.985000\n",
      "INFO:root:Epoch[0] Batch [18600]\tSpeed: 12112.46 samples/sec\tTrain-accuracy=0.980000\n",
      "INFO:root:Epoch[0] Batch [18800]\tSpeed: 12169.09 samples/sec\tTrain-accuracy=0.980000\n",
      "INFO:root:Epoch[0] Batch [19000]\tSpeed: 12126.92 samples/sec\tTrain-accuracy=0.990000\n",
      "INFO:root:Epoch[0] Batch [19200]\tSpeed: 12151.27 samples/sec\tTrain-accuracy=0.990000\n",
      "INFO:root:Epoch[0] Batch [19400]\tSpeed: 12154.40 samples/sec\tTrain-accuracy=0.990000\n",
      "INFO:root:Epoch[0] Batch [19600]\tSpeed: 12110.20 samples/sec\tTrain-accuracy=0.995000\n",
      "INFO:root:Epoch[0] Batch [19800]\tSpeed: 12170.28 samples/sec\tTrain-accuracy=0.985000\n",
      "INFO:root:Epoch[0] Batch [20000]\tSpeed: 12152.77 samples/sec\tTrain-accuracy=0.985000\n",
      "INFO:root:Epoch[0] Batch [20200]\tSpeed: 12155.72 samples/sec\tTrain-accuracy=0.990000\n",
      "INFO:root:Epoch[0] Batch [20400]\tSpeed: 12081.61 samples/sec\tTrain-accuracy=0.985000\n",
      "INFO:root:Epoch[0] Batch [20600]\tSpeed: 12168.28 samples/sec\tTrain-accuracy=0.990000\n",
      "INFO:root:Epoch[0] Batch [20800]\tSpeed: 12102.88 samples/sec\tTrain-accuracy=0.985000\n",
      "INFO:root:Epoch[0] Batch [21000]\tSpeed: 12194.79 samples/sec\tTrain-accuracy=0.975000\n",
      "INFO:root:Epoch[0] Batch [21200]\tSpeed: 12133.35 samples/sec\tTrain-accuracy=0.990000\n",
      "INFO:root:Epoch[0] Batch [21400]\tSpeed: 12069.64 samples/sec\tTrain-accuracy=1.000000\n",
      "INFO:root:Epoch[0] Batch [21600]\tSpeed: 12121.32 samples/sec\tTrain-accuracy=0.980000\n",
      "INFO:root:Epoch[0] Batch [21800]\tSpeed: 12139.21 samples/sec\tTrain-accuracy=1.000000\n",
      "INFO:root:Epoch[0] Batch [22000]\tSpeed: 12123.82 samples/sec\tTrain-accuracy=1.000000\n",
      "INFO:root:Epoch[0] Batch [22200]\tSpeed: 12202.14 samples/sec\tTrain-accuracy=0.990000\n",
      "INFO:root:Epoch[0] Batch [22400]\tSpeed: 12142.88 samples/sec\tTrain-accuracy=0.985000\n",
      "INFO:root:Epoch[0] Batch [22600]\tSpeed: 12139.69 samples/sec\tTrain-accuracy=0.985000\n",
      "INFO:root:Epoch[0] Batch [22800]\tSpeed: 12136.47 samples/sec\tTrain-accuracy=0.995000\n",
      "INFO:root:Epoch[0] Batch [23000]\tSpeed: 12170.83 samples/sec\tTrain-accuracy=0.985000\n",
      "INFO:root:Epoch[0] Batch [23200]\tSpeed: 12934.07 samples/sec\tTrain-accuracy=0.985000\n",
      "INFO:root:Epoch[0] Batch [23400]\tSpeed: 12141.86 samples/sec\tTrain-accuracy=0.980000\n",
      "INFO:root:Epoch[0] Batch [23600]\tSpeed: 12119.07 samples/sec\tTrain-accuracy=0.980000\n",
      "INFO:root:Epoch[0] Batch [23800]\tSpeed: 12960.03 samples/sec\tTrain-accuracy=0.985000\n",
      "INFO:root:Epoch[0] Batch [24000]\tSpeed: 12104.80 samples/sec\tTrain-accuracy=0.985000\n",
      "INFO:root:Epoch[0] Batch [24200]\tSpeed: 12119.20 samples/sec\tTrain-accuracy=0.990000\n",
      "INFO:root:Epoch[0] Batch [24400]\tSpeed: 12089.69 samples/sec\tTrain-accuracy=0.995000\n",
      "INFO:root:Epoch[0] Batch [24600]\tSpeed: 12156.95 samples/sec\tTrain-accuracy=0.990000\n",
      "INFO:root:Epoch[0] Batch [24800]\tSpeed: 12156.50 samples/sec\tTrain-accuracy=0.995000\n",
      "INFO:root:Epoch[0] Batch [25000]\tSpeed: 12132.18 samples/sec\tTrain-accuracy=0.990000\n",
      "INFO:root:Epoch[0] Batch [25200]\tSpeed: 12207.75 samples/sec\tTrain-accuracy=0.975000\n",
      "INFO:root:Epoch[0] Batch [25400]\tSpeed: 12135.51 samples/sec\tTrain-accuracy=1.000000\n",
      "INFO:root:Epoch[0] Batch [25600]\tSpeed: 12120.21 samples/sec\tTrain-accuracy=0.975000\n",
      "INFO:root:Epoch[0] Batch [25800]\tSpeed: 12112.62 samples/sec\tTrain-accuracy=0.985000\n",
      "INFO:root:Epoch[0] Batch [26000]\tSpeed: 12122.38 samples/sec\tTrain-accuracy=0.995000\n",
      "INFO:root:Epoch[0] Batch [26200]\tSpeed: 12121.52 samples/sec\tTrain-accuracy=0.990000\n",
      "INFO:root:Epoch[0] Batch [26400]\tSpeed: 13376.50 samples/sec\tTrain-accuracy=0.990000\n",
      "INFO:root:Epoch[0] Batch [26600]\tSpeed: 17124.48 samples/sec\tTrain-accuracy=0.990000\n",
      "INFO:root:Epoch[0] Batch [26800]\tSpeed: 12121.27 samples/sec\tTrain-accuracy=0.990000\n",
      "INFO:root:Epoch[0] Batch [27000]\tSpeed: 12125.14 samples/sec\tTrain-accuracy=0.980000\n",
      "INFO:root:Epoch[0] Batch [27200]\tSpeed: 12147.53 samples/sec\tTrain-accuracy=0.985000\n",
      "INFO:root:Epoch[0] Batch [27400]\tSpeed: 12141.60 samples/sec\tTrain-accuracy=0.990000\n",
      "INFO:root:Epoch[0] Batch [27600]\tSpeed: 12096.47 samples/sec\tTrain-accuracy=0.985000\n",
      "INFO:root:Epoch[0] Batch [27800]\tSpeed: 12114.98 samples/sec\tTrain-accuracy=0.995000\n",
      "INFO:root:Epoch[0] Batch [28000]\tSpeed: 12157.26 samples/sec\tTrain-accuracy=0.985000\n",
      "INFO:root:Epoch[0] Batch [28200]\tSpeed: 12119.58 samples/sec\tTrain-accuracy=0.990000\n",
      "INFO:root:Epoch[0] Batch [28400]\tSpeed: 12130.36 samples/sec\tTrain-accuracy=0.995000\n",
      "INFO:root:Epoch[0] Batch [28600]\tSpeed: 12152.54 samples/sec\tTrain-accuracy=0.985000\n",
      "INFO:root:Epoch[0] Batch [28800]\tSpeed: 12156.71 samples/sec\tTrain-accuracy=0.990000\n",
      "INFO:root:Epoch[0] Batch [29000]\tSpeed: 12131.01 samples/sec\tTrain-accuracy=0.995000\n",
      "INFO:root:Epoch[0] Batch [29200]\tSpeed: 12181.98 samples/sec\tTrain-accuracy=0.995000\n",
      "INFO:root:Epoch[0] Batch [29400]\tSpeed: 12113.19 samples/sec\tTrain-accuracy=0.995000\n",
      "INFO:root:Epoch[0] Batch [29600]\tSpeed: 13737.99 samples/sec\tTrain-accuracy=0.980000\n",
      "INFO:root:Epoch[0] Batch [29800]\tSpeed: 12109.79 samples/sec\tTrain-accuracy=0.980000\n",
      "INFO:root:Epoch[0] Batch [30000]\tSpeed: 12172.32 samples/sec\tTrain-accuracy=0.990000\n",
      "INFO:root:Epoch[0] Batch [30200]\tSpeed: 12128.44 samples/sec\tTrain-accuracy=0.980000\n",
      "INFO:root:Epoch[0] Batch [30400]\tSpeed: 12085.86 samples/sec\tTrain-accuracy=0.990000\n",
      "INFO:root:Epoch[0] Batch [30600]\tSpeed: 12144.11 samples/sec\tTrain-accuracy=0.990000\n",
      "INFO:root:Epoch[0] Batch [30800]\tSpeed: 13838.42 samples/sec\tTrain-accuracy=0.980000\n",
      "INFO:root:Epoch[0] Batch [31000]\tSpeed: 12157.80 samples/sec\tTrain-accuracy=0.995000\n",
      "INFO:root:Epoch[0] Batch [31200]\tSpeed: 12139.25 samples/sec\tTrain-accuracy=0.975000\n",
      "INFO:root:Epoch[0] Batch [31400]\tSpeed: 12142.00 samples/sec\tTrain-accuracy=0.995000\n",
      "INFO:root:Epoch[0] Batch [31600]\tSpeed: 12165.95 samples/sec\tTrain-accuracy=0.980000\n",
      "INFO:root:Epoch[0] Batch [31800]\tSpeed: 12128.74 samples/sec\tTrain-accuracy=0.985000\n",
      "INFO:root:Epoch[0] Batch [32000]\tSpeed: 12136.74 samples/sec\tTrain-accuracy=0.995000\n",
      "INFO:root:Epoch[0] Batch [32200]\tSpeed: 12116.19 samples/sec\tTrain-accuracy=0.985000\n",
      "INFO:root:Epoch[0] Batch [32400]\tSpeed: 12135.23 samples/sec\tTrain-accuracy=0.980000\n",
      "INFO:root:Epoch[0] Batch [32600]\tSpeed: 12142.41 samples/sec\tTrain-accuracy=0.985000\n",
      "INFO:root:Epoch[0] Batch [32800]\tSpeed: 12127.64 samples/sec\tTrain-accuracy=0.990000\n",
      "INFO:root:Epoch[0] Batch [33000]\tSpeed: 13320.88 samples/sec\tTrain-accuracy=0.975000\n",
      "INFO:root:Epoch[0] Batch [33200]\tSpeed: 12113.93 samples/sec\tTrain-accuracy=0.975000\n",
      "INFO:root:Epoch[0] Batch [33400]\tSpeed: 12110.08 samples/sec\tTrain-accuracy=0.995000\n",
      "INFO:root:Epoch[0] Batch [33600]\tSpeed: 12170.06 samples/sec\tTrain-accuracy=0.975000\n",
      "INFO:root:Epoch[0] Batch [33800]\tSpeed: 12143.03 samples/sec\tTrain-accuracy=0.980000\n",
      "INFO:root:Epoch[0] Batch [34000]\tSpeed: 12131.27 samples/sec\tTrain-accuracy=0.970000\n",
      "INFO:root:Epoch[0] Batch [34200]\tSpeed: 12129.51 samples/sec\tTrain-accuracy=1.000000\n",
      "INFO:root:Epoch[0] Batch [34400]\tSpeed: 12170.96 samples/sec\tTrain-accuracy=0.980000\n",
      "INFO:root:Epoch[0] Batch [34600]\tSpeed: 12132.29 samples/sec\tTrain-accuracy=0.990000\n",
      "INFO:root:Epoch[0] Batch [34800]\tSpeed: 12156.56 samples/sec\tTrain-accuracy=0.975000\n",
      "INFO:root:Epoch[0] Batch [35000]\tSpeed: 12153.45 samples/sec\tTrain-accuracy=0.995000\n",
      "INFO:root:Epoch[0] Resetting Data Iterator\n",
      "INFO:root:Epoch[0] Time cost=285.847\n",
      "INFO:root:Epoch[0] Validation-accuracy=0.983267\n"
     ]
    }
   ],
   "source": [
    "model.fit(\n",
    "    X=train_iter,       # training data\n",
    "    eval_data=eval_iter, # validation data\n",
    "    batch_end_callback = mx.callback.Speedometer(100, 200)\n",
    ")"
   ]
  },
  {
   "cell_type": "code",
   "execution_count": null,
   "metadata": {
    "collapsed": true
   },
   "outputs": [],
   "source": [
    "model"
   ]
  },
  {
   "cell_type": "code",
   "execution_count": null,
   "metadata": {
    "collapsed": true
   },
   "outputs": [],
   "source": []
  }
 ],
 "metadata": {
  "kernelspec": {
   "display_name": "Python 2",
   "language": "python",
   "name": "python2"
  },
  "language_info": {
   "codemirror_mode": {
    "name": "ipython",
    "version": 2
   },
   "file_extension": ".py",
   "mimetype": "text/x-python",
   "name": "python",
   "nbconvert_exporter": "python",
   "pygments_lexer": "ipython2",
   "version": "2.7.12"
  }
 },
 "nbformat": 4,
 "nbformat_minor": 2
}
